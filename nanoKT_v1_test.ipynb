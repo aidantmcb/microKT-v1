{
 "cells": [
  {
   "cell_type": "code",
   "execution_count": 1,
   "metadata": {},
   "outputs": [],
   "source": [
    "from multiprocessing import Pool\n",
    "import os\n",
    "os.environ['OMP_NUM_THREADS'] = \"1\"\n",
    "\n",
    "import numpy as np\n",
    "\n",
    "import astropy.units as u  \n",
    "import astropy.constants as c\n",
    "from astropy.coordinates import SkyCoord\n",
    "\n",
    "import matplotlib.pyplot as plt\n",
    "from matplotlib.colors import Normalize\n",
    "import matplotlib \n",
    "\n",
    "from astropy.io import fits\n",
    "from astropy.table import Table, join\n",
    "from scipy.interpolate import interp1d\n",
    "\n",
    "from dustmaps.bayestar import BayestarQuery\n",
    "from dustmaps.vergely2022 import Vergely2022Query\n",
    "from dustmaps.edenhofer2023 import Edenhofer2023Query\n",
    "\n",
    "import pickle \n",
    "import sys\n",
    "import os\n",
    "import tqdm\n",
    "\n",
    "import emcee\n",
    "import corner"
   ]
  },
  {
   "cell_type": "code",
   "execution_count": 2,
   "metadata": {},
   "outputs": [],
   "source": [
    "from sightline import Sightline\n",
    "from specfns import get_wavs, resample_interp, dopplershift, lambda0, sigma0\n",
    "from filehandling import get_ca_res, get_madgics_res\n",
    "from spacefns_v2 import select_stars, find_nearest, find_radius\n",
    "import globalvars\n",
    "from MCMCfns import logprob_2\n",
    "import time"
   ]
  },
  {
   "cell_type": "code",
   "execution_count": 3,
   "metadata": {},
   "outputs": [
    {
     "name": "stdout",
     "output_type": "stream",
     "text": [
      "335\n"
     ]
    }
   ],
   "source": [
    "CA_meta = Table(fits.open('../Data/230420_CAResiduals/CA_meta.fits')[1].data)\n",
    "CAresdir = '/uufs/astro.utah.edu/common/home/u1371365/Data/230420_CAResiduals/'\n",
    "CAMADGICSresdir = '/uufs/astro.utah.edu/common/home/u1371365/Data/230829_MADGICSResiduals/'\n",
    "starhorsepath = '/uufs/chpc.utah.edu/common/home/sdss/dr17/env/APOGEE_STARHORSE/APOGEE_DR17_EDR3_STARHORSE_v2.fits'\n",
    "starhorse = Table.read(starhorsepath, hdu = 1)\n",
    "starhorse = starhorse['APOGEE_ID', 'dist16', 'dist50', 'dist84', 'AV16', 'AV50', 'AV84']\n",
    "\n",
    "CA_meta = join(CA_meta, starhorse, keys = 'APOGEE_ID', join_type = 'left')\n",
    "\n",
    "CA_meta_full = CA_meta.copy()\n",
    "\n",
    "with open('/uufs/astro.utah.edu/common/home/u1371365/DIB_KT_CACloud/goodbad.pickle', mode = 'rb') as f:\n",
    "    goodbad = pickle.load(f)\n",
    "## used up until 1003a at least\n",
    "# CA_meta = CA_meta[goodbad]\n",
    "# print(len(CA_meta))\n",
    "\n",
    "# CA_filter = (CA_meta['SNR'] > 70) & (chi2_array < 1/70)\n",
    "# CA_meta = CA_meta[CA_filter]\n",
    "\n",
    "### starting 1003b\n",
    "strict_filter = (CA_meta['SNR'] > 150) & goodbad\n",
    "CA_meta = CA_meta[strict_filter]\n",
    "print(len(CA_meta))"
   ]
  },
  {
   "cell_type": "code",
   "execution_count": 4,
   "metadata": {},
   "outputs": [],
   "source": [
    "wavs = get_wavs()\n",
    "window = (wavs < lambda0 - 10) & (wavs < lambda0 + 10)"
   ]
  },
  {
   "cell_type": "code",
   "execution_count": 5,
   "metadata": {},
   "outputs": [],
   "source": [
    "dust_data = globalvars.DustData()\n",
    "edenhofer = dust_data.dustmap"
   ]
  },
  {
   "cell_type": "code",
   "execution_count": 6,
   "metadata": {},
   "outputs": [
    {
     "name": "stdout",
     "output_type": "stream",
     "text": [
      "17\n",
      "15\n",
      "3\n"
     ]
    }
   ],
   "source": [
    "ds = 2.5 # x downsampled\n",
    "rad = 0.23\n",
    "sample_dim_l = np.linspace(159, 167, int(8 / (ds * rad)))\n",
    "sample_dim_b = np.linspace(-12.5 , -4.5, int(8 / (ds * rad)))\n",
    "sample_grid_l, sample_grid_b = np.meshgrid(sample_dim_l, sample_dim_b)\n",
    "grid_map_inds = np.array([find_nearest(sample_grid_l.flatten()[i], sample_grid_b.flatten()[i]) for i in range(len(sample_grid_l.flatten()))]).T\n",
    "grid_map = np.nansum(np.copy(edenhofer[grid_map_inds[1], grid_map_inds[0], :]).reshape(*sample_grid_l.shape, -1), axis = 2)\n",
    "grid_Nstar = np.array([np.nansum((np.abs((sample_grid_l.flatten()[i] - CA_meta['GLON'])) <= rad) & \n",
    "            (np.abs((sample_grid_b.flatten()[i] - CA_meta['GLAT'])) <= rad)) for i in range(len(sample_grid_l.flatten()))]).reshape(*sample_grid_l.shape)\n",
    "\n",
    "filament_l = (159, 169)\n",
    "filament_b = (-10, -6)\n",
    "\n",
    "N_min = 5\n",
    "radius_min = np.zeros(sample_grid_l.shape)\n",
    "mgrid = np.mgrid[0:len(sample_dim_l), 0:len(sample_dim_b)]\n",
    "for i in mgrid[0].flatten():\n",
    "    for j in mgrid[1].flatten():\n",
    "        radius_min[i, j] = find_radius(sample_grid_l[i, j], sample_grid_b[i, j], N_min, CA_meta)\n",
    "        radius_min[i, j] = np.max([radius_min[i, j], 0.23])\n",
    "\n",
    "radius_max = 0.4\n",
    "print(np.nansum(radius_min < radius_max))\n",
    "\n",
    "\n",
    "crit_filament = ((sample_grid_l > filament_l[0]) & (sample_grid_l < filament_l[1]) & \n",
    "                 (sample_grid_b > filament_b[0]) & (sample_grid_b < filament_b[1]) &\n",
    "                 (grid_map > 2.2) & (radius_min < 0.5)) #(grid_Nstar > 5) & (grid_Nstar <= 10))\n",
    "\n",
    "crit_background =  (((sample_grid_l <= filament_l[0]) | (sample_grid_l >= filament_l[1]) |\n",
    "                 (sample_grid_b <= filament_b[0]) | (sample_grid_b >= filament_b[1])) &\n",
    "                 (grid_map <= 1.5) & (radius_min < radius_max)) #(grid_Nstar > 5) & (grid_Nstar <= 10))\n",
    "\n",
    "# crit_coverage = (np.sum() => 1 & )\n",
    "\n",
    "N_filament = np.sum(crit_filament)\n",
    "N_background = np.sum(crit_background)\n",
    "print(np.sum(crit_filament))\n",
    "print(np.sum(crit_background))"
   ]
  },
  {
   "cell_type": "code",
   "execution_count": 7,
   "metadata": {},
   "outputs": [],
   "source": [
    "l_fil, b_fil, AV_fil = (sample_grid_l[crit_filament].flatten(), sample_grid_b[crit_filament].flatten(),\n",
    "                        grid_map[crit_filament].flatten())\n",
    "l_off, b_off, AV_off = (sample_grid_l[crit_background].flatten(), sample_grid_b[crit_background].flatten(),\n",
    "                        grid_map[crit_background].flatten())\n",
    "\n",
    "l_sample, b_sample, AV_sample = (np.concatenate([l_fil, l_off]), np.concatenate([b_fil, b_off]),\n",
    "                                  np.concatenate([AV_fil, AV_off]))"
   ]
  },
  {
   "cell_type": "code",
   "execution_count": 8,
   "metadata": {},
   "outputs": [
    {
     "name": "stdout",
     "output_type": "stream",
     "text": [
      "5\n",
      "5\n",
      "5\n",
      "5\n",
      "5\n",
      "5\n",
      "5\n",
      "5\n",
      "5\n",
      "5\n",
      "5\n",
      "5\n",
      "5\n",
      "5\n",
      "5\n",
      "6\n",
      "5\n",
      "5\n"
     ]
    }
   ],
   "source": [
    "radius_min_fil = radius_min[crit_filament].flatten()\n",
    "radius_min_off = radius_min[crit_background].flatten()\n",
    "radius_sample = np.concatenate([radius_min_fil, radius_min_off])\n",
    "\n",
    "selected_inds = []\n",
    "for i in range(len(l_sample)):\n",
    "    l_center, b_center = l_sample[i], b_sample[i]\n",
    "    rad_i = radius_sample[i]\n",
    "    selection = select_stars(CA_meta, l_center, b_center, radius = rad_i)\n",
    "    print(len(selection))\n",
    "    selected_inds.append(selection)"
   ]
  },
  {
   "cell_type": "code",
   "execution_count": null,
   "metadata": {},
   "outputs": [],
   "source": []
  },
  {
   "cell_type": "code",
   "execution_count": null,
   "metadata": {},
   "outputs": [],
   "source": []
  },
  {
   "cell_type": "code",
   "execution_count": 9,
   "metadata": {},
   "outputs": [],
   "source": [
    "sightlines = []\n",
    "for i in range(len(selected_inds)):\n",
    "    indx = selected_inds[i]\n",
    "    sightlines.append(Sightline(CA_meta[indx], MADGICS = False))\n",
    "    sightlines[i].intake_coords(l_sample, b_sample, AV = AV_sample)"
   ]
  },
  {
   "cell_type": "code",
   "execution_count": 10,
   "metadata": {},
   "outputs": [],
   "source": [
    "from MCMCfns import logprob_2"
   ]
  },
  {
   "cell_type": "code",
   "execution_count": 11,
   "metadata": {},
   "outputs": [],
   "source": [
    "def MCMC_scary(sl, steps = 1000, nwalkers = 100, pool = None):\n",
    "    ndim = len(sl.voxel_dAVdd) \n",
    "    nstar = len(sl.stars)\n",
    "    ndim_amp = int(ndim + ndim * nstar)\n",
    "    \n",
    "\n",
    "    # dAVdd_prior = sl.dAVdd[:]\n",
    "    # dAVdd_prior[dAVdd_prior == 0] = np.nan \n",
    "    # dAVdd_prior_med = np.nanmedian(dAVdd_prior, axis = 1)\n",
    "    # dAVdd_prior_std = np.nanstd(dAVdd_prior, axis = 1, ddof = 1)\n",
    "    # gaussparams = (dAVdd_prior_med, dAVdd_prior_std)\n",
    "    # print(gaussparams)\n",
    "\n",
    "    # with Pool(15) as pool:\n",
    "\n",
    "    sampler = emcee.EnsembleSampler(nwalkers, ndim_amp , logprob_2, \n",
    "                                    kwargs={'sl': sl,  'prior_mult':  1, 'v_max': 20, 'sigma': None}, pool = pool)\n",
    "    # init = 12.5 *(np.random.random((nwalkers, ndim_amp)) - 0.5)\n",
    "    init = 10 *  (np.random.random((nwalkers, ndim_amp)) - 0.5)\n",
    "\n",
    "    init[:, ndim:] = np.abs(sl.dAVdd.ravel()[np.newaxis, :] + 0.1*(np.random.random(init[:, ndim:].shape)-0.5))\n",
    "    print('NDIM:', ndim, 'NSTAR:', nstar, 'INITSHAPE:', init.shape)\n",
    "    \n",
    "    sampler.run_mcmc(init,  steps, progress = True);\n",
    "    \n",
    "    return sampler, ndim, ndim_amp"
   ]
  },
  {
   "cell_type": "code",
   "execution_count": 12,
   "metadata": {},
   "outputs": [
    {
     "name": "stdout",
     "output_type": "stream",
     "text": [
      "NDIM: 5 NSTAR: 5 INITSHAPE: (500, 30)\n"
     ]
    },
    {
     "name": "stderr",
     "output_type": "stream",
     "text": [
      "100%|██████████| 1500/1500 [02:47<00:00,  8.94it/s]\n"
     ]
    },
    {
     "name": "stdout",
     "output_type": "stream",
     "text": [
      "NDIM: 5 NSTAR: 5 INITSHAPE: (500, 30)\n"
     ]
    },
    {
     "name": "stderr",
     "output_type": "stream",
     "text": [
      "100%|██████████| 1500/1500 [02:46<00:00,  9.00it/s]\n"
     ]
    },
    {
     "name": "stdout",
     "output_type": "stream",
     "text": [
      "NDIM: 5 NSTAR: 5 INITSHAPE: (500, 30)\n"
     ]
    },
    {
     "name": "stderr",
     "output_type": "stream",
     "text": [
      "100%|██████████| 1500/1500 [02:49<00:00,  8.84it/s]\n"
     ]
    },
    {
     "name": "stdout",
     "output_type": "stream",
     "text": [
      "NDIM: 5 NSTAR: 5 INITSHAPE: (500, 30)\n"
     ]
    },
    {
     "name": "stderr",
     "output_type": "stream",
     "text": [
      "100%|██████████| 1500/1500 [02:52<00:00,  8.71it/s]\n"
     ]
    },
    {
     "name": "stdout",
     "output_type": "stream",
     "text": [
      "NDIM: 5 NSTAR: 5 INITSHAPE: (500, 30)\n"
     ]
    },
    {
     "name": "stderr",
     "output_type": "stream",
     "text": [
      "100%|██████████| 1500/1500 [02:45<00:00,  9.05it/s]\n"
     ]
    },
    {
     "name": "stdout",
     "output_type": "stream",
     "text": [
      "NDIM: 5 NSTAR: 5 INITSHAPE: (500, 30)\n"
     ]
    },
    {
     "name": "stderr",
     "output_type": "stream",
     "text": [
      "100%|██████████| 1500/1500 [02:48<00:00,  8.88it/s]\n"
     ]
    },
    {
     "name": "stdout",
     "output_type": "stream",
     "text": [
      "NDIM: 5 NSTAR: 5 INITSHAPE: (500, 30)\n"
     ]
    },
    {
     "name": "stderr",
     "output_type": "stream",
     "text": [
      "100%|██████████| 1500/1500 [02:48<00:00,  8.90it/s]\n"
     ]
    },
    {
     "name": "stdout",
     "output_type": "stream",
     "text": [
      "NDIM: 4 NSTAR: 5 INITSHAPE: (500, 24)\n"
     ]
    },
    {
     "name": "stderr",
     "output_type": "stream",
     "text": [
      "100%|██████████| 1500/1500 [02:48<00:00,  8.90it/s]\n"
     ]
    },
    {
     "name": "stdout",
     "output_type": "stream",
     "text": [
      "NDIM: 4 NSTAR: 5 INITSHAPE: (500, 24)\n"
     ]
    },
    {
     "name": "stderr",
     "output_type": "stream",
     "text": [
      "100%|██████████| 1500/1500 [02:48<00:00,  8.90it/s]\n"
     ]
    },
    {
     "name": "stdout",
     "output_type": "stream",
     "text": [
      "NDIM: 5 NSTAR: 5 INITSHAPE: (500, 30)\n"
     ]
    },
    {
     "name": "stderr",
     "output_type": "stream",
     "text": [
      "100%|██████████| 1500/1500 [02:50<00:00,  8.81it/s]\n"
     ]
    },
    {
     "name": "stdout",
     "output_type": "stream",
     "text": [
      "NDIM: 5 NSTAR: 5 INITSHAPE: (500, 30)\n"
     ]
    },
    {
     "name": "stderr",
     "output_type": "stream",
     "text": [
      "100%|██████████| 1500/1500 [02:48<00:00,  8.89it/s]\n"
     ]
    },
    {
     "name": "stdout",
     "output_type": "stream",
     "text": [
      "NDIM: 5 NSTAR: 5 INITSHAPE: (500, 30)\n"
     ]
    },
    {
     "name": "stderr",
     "output_type": "stream",
     "text": [
      "100%|██████████| 1500/1500 [02:47<00:00,  8.94it/s]\n"
     ]
    },
    {
     "name": "stdout",
     "output_type": "stream",
     "text": [
      "NDIM: 5 NSTAR: 5 INITSHAPE: (500, 30)\n"
     ]
    },
    {
     "name": "stderr",
     "output_type": "stream",
     "text": [
      "100%|██████████| 1500/1500 [02:48<00:00,  8.88it/s]\n",
      "/uufs/chpc.utah.edu/sys/installdir/r8/python/3.10.3/lib/python3.10/site-packages/numpy-1.22.3-py3.10-linux-x86_64.egg/numpy/lib/nanfunctions.py:1218: RuntimeWarning: All-NaN slice encountered\n",
      "  r, k = function_base._ureduce(a, func=_nanmedian, axis=axis, out=out,\n",
      "/uufs/chpc.utah.edu/sys/installdir/r8/python/3.10.3/lib/python3.10/site-packages/numpy-1.22.3-py3.10-linux-x86_64.egg/numpy/lib/nanfunctions.py:1218: RuntimeWarning: All-NaN slice encountered\n",
      "  r, k = function_base._ureduce(a, func=_nanmedian, axis=axis, out=out,\n",
      "/uufs/chpc.utah.edu/sys/installdir/r8/python/3.10.3/lib/python3.10/site-packages/numpy-1.22.3-py3.10-linux-x86_64.egg/numpy/lib/nanfunctions.py:1218: RuntimeWarning: All-NaN slice encountered\n",
      "  r, k = function_base._ureduce(a, func=_nanmedian, axis=axis, out=out,\n",
      "/uufs/chpc.utah.edu/sys/installdir/r8/python/3.10.3/lib/python3.10/site-packages/numpy-1.22.3-py3.10-linux-x86_64.egg/numpy/lib/nanfunctions.py:1218: RuntimeWarning: All-NaN slice encountered\n",
      "  r, k = function_base._ureduce(a, func=_nanmedian, axis=axis, out=out,\n",
      "/uufs/chpc.utah.edu/sys/installdir/r8/python/3.10.3/lib/python3.10/site-packages/numpy-1.22.3-py3.10-linux-x86_64.egg/numpy/lib/nanfunctions.py:1218: RuntimeWarning: All-NaN slice encountered\n",
      "  r, k = function_base._ureduce(a, func=_nanmedian, axis=axis, out=out,\n",
      "/uufs/chpc.utah.edu/sys/installdir/r8/python/3.10.3/lib/python3.10/site-packages/numpy-1.22.3-py3.10-linux-x86_64.egg/numpy/lib/nanfunctions.py:1218: RuntimeWarning: All-NaN slice encountered\n",
      "  r, k = function_base._ureduce(a, func=_nanmedian, axis=axis, out=out,\n",
      "/uufs/chpc.utah.edu/sys/installdir/r8/python/3.10.3/lib/python3.10/site-packages/numpy-1.22.3-py3.10-linux-x86_64.egg/numpy/lib/nanfunctions.py:1218: RuntimeWarning: All-NaN slice encountered\n",
      "  r, k = function_base._ureduce(a, func=_nanmedian, axis=axis, out=out,\n",
      "/uufs/chpc.utah.edu/sys/installdir/r8/python/3.10.3/lib/python3.10/site-packages/numpy-1.22.3-py3.10-linux-x86_64.egg/numpy/lib/nanfunctions.py:1218: RuntimeWarning: All-NaN slice encountered\n",
      "  r, k = function_base._ureduce(a, func=_nanmedian, axis=axis, out=out,\n",
      "/uufs/chpc.utah.edu/sys/installdir/r8/python/3.10.3/lib/python3.10/site-packages/numpy-1.22.3-py3.10-linux-x86_64.egg/numpy/lib/nanfunctions.py:1218: RuntimeWarning: All-NaN slice encountered\n",
      "  r, k = function_base._ureduce(a, func=_nanmedian, axis=axis, out=out,\n",
      "/uufs/chpc.utah.edu/sys/installdir/r8/python/3.10.3/lib/python3.10/site-packages/numpy-1.22.3-py3.10-linux-x86_64.egg/numpy/lib/nanfunctions.py:1218: RuntimeWarning: All-NaN slice encountered\n",
      "  r, k = function_base._ureduce(a, func=_nanmedian, axis=axis, out=out,\n",
      "/uufs/chpc.utah.edu/sys/installdir/r8/python/3.10.3/lib/python3.10/site-packages/numpy-1.22.3-py3.10-linux-x86_64.egg/numpy/lib/nanfunctions.py:1218: RuntimeWarning: All-NaN slice encountered\n",
      "  r, k = function_base._ureduce(a, func=_nanmedian, axis=axis, out=out,\n",
      "/uufs/chpc.utah.edu/sys/installdir/r8/python/3.10.3/lib/python3.10/site-packages/numpy-1.22.3-py3.10-linux-x86_64.egg/numpy/lib/nanfunctions.py:1218: RuntimeWarning: All-NaN slice encountered\n",
      "  r, k = function_base._ureduce(a, func=_nanmedian, axis=axis, out=out,\n",
      "/uufs/chpc.utah.edu/sys/installdir/r8/python/3.10.3/lib/python3.10/site-packages/numpy-1.22.3-py3.10-linux-x86_64.egg/numpy/lib/nanfunctions.py:1218: RuntimeWarning: All-NaN slice encountered\n",
      "  r, k = function_base._ureduce(a, func=_nanmedian, axis=axis, out=out,\n",
      "/uufs/chpc.utah.edu/sys/installdir/r8/python/3.10.3/lib/python3.10/site-packages/numpy-1.22.3-py3.10-linux-x86_64.egg/numpy/lib/nanfunctions.py:1218: RuntimeWarning: All-NaN slice encountered\n",
      "  r, k = function_base._ureduce(a, func=_nanmedian, axis=axis, out=out,\n",
      "/uufs/chpc.utah.edu/sys/installdir/r8/python/3.10.3/lib/python3.10/site-packages/numpy-1.22.3-py3.10-linux-x86_64.egg/numpy/lib/nanfunctions.py:1218: RuntimeWarning: All-NaN slice encountered\n",
      "  r, k = function_base._ureduce(a, func=_nanmedian, axis=axis, out=out,\n",
      "/uufs/chpc.utah.edu/sys/installdir/r8/python/3.10.3/lib/python3.10/site-packages/numpy-1.22.3-py3.10-linux-x86_64.egg/numpy/lib/nanfunctions.py:1218: RuntimeWarning: All-NaN slice encountered\n",
      "  r, k = function_base._ureduce(a, func=_nanmedian, axis=axis, out=out,\n",
      "/uufs/chpc.utah.edu/sys/installdir/r8/python/3.10.3/lib/python3.10/site-packages/numpy-1.22.3-py3.10-linux-x86_64.egg/numpy/lib/nanfunctions.py:1218: RuntimeWarning: All-NaN slice encountered\n",
      "  r, k = function_base._ureduce(a, func=_nanmedian, axis=axis, out=out,\n",
      "/uufs/chpc.utah.edu/sys/installdir/r8/python/3.10.3/lib/python3.10/site-packages/numpy-1.22.3-py3.10-linux-x86_64.egg/numpy/lib/nanfunctions.py:1218: RuntimeWarning: All-NaN slice encountered\n",
      "  r, k = function_base._ureduce(a, func=_nanmedian, axis=axis, out=out,\n",
      "/uufs/chpc.utah.edu/sys/installdir/r8/python/3.10.3/lib/python3.10/site-packages/numpy-1.22.3-py3.10-linux-x86_64.egg/numpy/lib/nanfunctions.py:1218: RuntimeWarning: All-NaN slice encountered\n",
      "  r, k = function_base._ureduce(a, func=_nanmedian, axis=axis, out=out,\n",
      "/uufs/chpc.utah.edu/sys/installdir/r8/python/3.10.3/lib/python3.10/site-packages/numpy-1.22.3-py3.10-linux-x86_64.egg/numpy/lib/nanfunctions.py:1218: RuntimeWarning: All-NaN slice encountered\n",
      "  r, k = function_base._ureduce(a, func=_nanmedian, axis=axis, out=out,\n"
     ]
    },
    {
     "name": "stdout",
     "output_type": "stream",
     "text": [
      "NDIM: 5 NSTAR: 5 INITSHAPE: (500, 30)\n"
     ]
    },
    {
     "name": "stderr",
     "output_type": "stream",
     "text": [
      "100%|██████████| 1500/1500 [02:50<00:00,  8.80it/s]\n"
     ]
    },
    {
     "name": "stdout",
     "output_type": "stream",
     "text": [
      "NDIM: 5 NSTAR: 5 INITSHAPE: (500, 30)\n"
     ]
    },
    {
     "name": "stderr",
     "output_type": "stream",
     "text": [
      "100%|██████████| 1500/1500 [02:45<00:00,  9.04it/s]\n"
     ]
    },
    {
     "name": "stdout",
     "output_type": "stream",
     "text": [
      "NDIM: 6 NSTAR: 6 INITSHAPE: (500, 42)\n"
     ]
    },
    {
     "name": "stderr",
     "output_type": "stream",
     "text": [
      "100%|██████████| 1500/1500 [02:52<00:00,  8.70it/s]\n"
     ]
    },
    {
     "name": "stdout",
     "output_type": "stream",
     "text": [
      "NDIM: 5 NSTAR: 5 INITSHAPE: (500, 30)\n"
     ]
    },
    {
     "name": "stderr",
     "output_type": "stream",
     "text": [
      "100%|██████████| 1500/1500 [02:47<00:00,  8.98it/s]\n"
     ]
    },
    {
     "name": "stdout",
     "output_type": "stream",
     "text": [
      "NDIM: 5 NSTAR: 5 INITSHAPE: (500, 30)\n"
     ]
    },
    {
     "name": "stderr",
     "output_type": "stream",
     "text": [
      "100%|██████████| 1500/1500 [02:51<00:00,  8.76it/s]\n"
     ]
    }
   ],
   "source": [
    "stp = 1500\n",
    "# sampler, ndim, ndim_amp = MCMC_scary(a, steps = stp, nwalkers = 500)\n",
    "# sampler1, ndim1, ndim_amp1 = MCMC(a1, steps = stp)\n",
    "# sampler2, ndim2, ndim_amp2 = MCMC(a2, steps = stp)\n",
    "# sampler3, ndim3, ndim_amp3 = MCMC(a3, steps = stp)\n",
    "\n",
    "run_label = 'AAAA'\n",
    "save_individual = False\n",
    "\n",
    "first_run = True\n",
    "\n",
    "\n",
    "\n",
    "if first_run:\n",
    "    if not os.path.exists(os.getcwd() + '/RUNS/' + run_label):\n",
    "        os.makedirs(os.getcwd() +'/RUNS/' + run_label)\n",
    "    with Pool(20) as pool:\n",
    "        for i in range(len(sightlines)):\n",
    "            try:\n",
    "                sl_i = sightlines[i]\n",
    "                smplr, ndm, ndm_amp = MCMC_scary(sl_i, steps = stp, nwalkers = 500, pool = pool)\n",
    "                # smplr_array.append(smplr)\n",
    "                # mid = time.time()\n",
    "                # print('Time mid - start', mid - start) # beat 7:22\n",
    "                # smplr_, ndim_ = MCMC_vonly(sl_i, smplr, steps = 1200, nwalkers = 100, pool = None)\n",
    "                # end = time.time()\n",
    "                # print('Time end - start:',(end - start)/60)\n",
    "                sl_i.intake(smplr)\n",
    "                state = 'success'\n",
    "            except Exception as e:\n",
    "                print('Something went wrong')\n",
    "                sl_i = None \n",
    "                state = 'fail'\n",
    "                with open('RUNS/' + run_label + '/FAILS.txt', mode = 'a') as fails:\n",
    "                    fails.write(str(e))\n",
    "                \n",
    "            with open('RUNS/' + run_label + '/LOG.txt', mode = 'a') as log:\n",
    "                logstring = time.asctime() + ' | ' + str(i) + ' | ' + state + '\\n'\n",
    "                log.write(logstring)\n",
    "            \n",
    "            if save_individual == True:\n",
    "                with open('RUNS/' + run_label + '/sl_{}.pickle'.format(i), mode = 'wb') as f:\n",
    "                    pickle.dump(sl_i, f)\n",
    "\n",
    "# sampler, ndim, ndim_amp = smplr, ndm, ndm_amp"
   ]
  },
  {
   "cell_type": "code",
   "execution_count": null,
   "metadata": {},
   "outputs": [],
   "source": []
  }
 ],
 "metadata": {
  "kernelspec": {
   "display_name": "Python 3",
   "language": "python",
   "name": "python3"
  },
  "language_info": {
   "codemirror_mode": {
    "name": "ipython",
    "version": 3
   },
   "file_extension": ".py",
   "mimetype": "text/x-python",
   "name": "python",
   "nbconvert_exporter": "python",
   "pygments_lexer": "ipython3",
   "version": "3.10.3"
  }
 },
 "nbformat": 4,
 "nbformat_minor": 2
}
